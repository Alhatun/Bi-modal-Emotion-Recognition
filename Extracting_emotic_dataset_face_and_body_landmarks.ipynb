{
 "cells": [
  {
   "cell_type": "markdown",
   "id": "0ee4ac34",
   "metadata": {},
   "source": [
    "### Import Dependencies "
   ]
  },
  {
   "cell_type": "code",
   "execution_count": 1,
   "id": "2d2216ab",
   "metadata": {},
   "outputs": [],
   "source": [
    "import cv2\n",
    "import os\n",
    "import mediapipe as mp \n",
    "import numpy as np \n",
    "import csv"
   ]
  },
  {
   "cell_type": "markdown",
   "id": "bb9747d2",
   "metadata": {},
   "source": [
    "### Set Root Directory for The Dataset Folder\n"
   ]
  },
  {
   "cell_type": "code",
   "execution_count": 2,
   "id": "b1a07df0",
   "metadata": {},
   "outputs": [],
   "source": [
    "#dataset path\n",
    "root_dir = 'E:/data/graduation project/emotion detection using emotic/'\n"
   ]
  },
  {
   "cell_type": "markdown",
   "id": "8c5a4180",
   "metadata": {},
   "source": [
    "### Map Image Folders to Labels\n"
   ]
  },
  {
   "cell_type": "code",
   "execution_count": 3,
   "id": "ee9b4dc2",
   "metadata": {},
   "outputs": [],
   "source": [
    "# Initialize list to store the labels\n",
    "labels = []\n",
    "\n",
    "# Define a dictionary to map the folder names to labels\n",
    "label_dict = {'Aversion' : 'Aversion', 'Annoyance' : 'Annoyance', 'Engagement': 'Engagement', 'Excitement': 'Excitement', 'Disconnection' : 'Disconnection', 'Pleasure':'Pleasure'}"
   ]
  },
  {
   "cell_type": "markdown",
   "id": "7fe5b40e",
   "metadata": {},
   "source": [
    "### Create List of Column Headings for CSV File"
   ]
  },
  {
   "cell_type": "code",
   "execution_count": 4,
   "id": "f57df2d8",
   "metadata": {},
   "outputs": [],
   "source": [
    "# Create a list of column names for the class label and the different sets of coordinates, including x, y, z, \n",
    "# and v (visibility) for each set\n",
    "\n",
    "coords_num = 501 # the number of landmarks detected by Mediapipe for the face (468) and the pose (33) \n",
    "landmarks = ['class']\n",
    "for value in range(1, coords_num+1):\n",
    "    landmarks += ['x{}'.format(value), 'y{}'.format(value),'z{}'.format(value), 'v{}'.format(value)]"
   ]
  },
  {
   "cell_type": "markdown",
   "id": "c2c7e241",
   "metadata": {},
   "source": [
    "### Create CSV File "
   ]
  },
  {
   "cell_type": "code",
   "execution_count": 10,
   "id": "f8ada824",
   "metadata": {},
   "outputs": [],
   "source": [
    "with open('emotic.csv', mode='w', newline='') as coords:\n",
    "    csv_writer = csv.writer(coords, delimiter=',', quotechar='\"', quoting=csv.QUOTE_MINIMAL)\n",
    "    csv_writer.writerow(landmarks)"
   ]
  },
  {
   "cell_type": "markdown",
   "id": "745802bc",
   "metadata": {},
   "source": [
    "### Extract and Save Landmarks from FER13 Dataset into CSV File "
   ]
  },
  {
   "cell_type": "code",
   "execution_count": null,
   "id": "fbed7f94",
   "metadata": {
    "scrolled": true
   },
   "outputs": [],
   "source": [
    "# initializing the landmarks drawing utilites \n",
    "mp_drawing = mp.solutions.drawing_utils\n",
    "# mediapipe landmark detection models\n",
    "mp_holistic = mp.solutions.holistic\n",
    "\n",
    "with mp_holistic.Holistic(min_detection_confidence=0.5, min_tracking_confidence=0.5) as holistic:\n",
    "    # Traverse the directory tree\n",
    "    for root, dirs, files in os.walk(root_dir):\n",
    "        print(root)\n",
    "        for file in files:\n",
    "            # Check if the file is an image\n",
    "            if file.endswith('.jpg'):\n",
    "                # Get the label from the parent directory\n",
    "                label = os.path.basename(root)\n",
    "                # Check if the label is in the dictionary\n",
    "                if label in label_dict.values():\n",
    "                    # Construct the full file path\n",
    "                    file_path = os.path.join(root, file)\n",
    "                    # Read the image using OpenCV\n",
    "                    image = cv2.imread(file_path)\n",
    "                    # Pass the image to medipipe for detection \n",
    "                    results = holistic.process(cv2.cvtColor(image, cv2.COLOR_BGR2RGB))\n",
    "\n",
    "                    # Draw face laandmarks \n",
    "                    mp_drawing.draw_landmarks(image, results.face_landmarks, mp_holistic.FACEMESH_TESSELATION,\n",
    "                                                  mp_drawing.DrawingSpec(color=(80,110,10), thickness=1, circle_radius=1),\n",
    "                                                  mp_drawing.DrawingSpec(color=(80,256,121), thickness=1, circle_radius=1)\n",
    "                                                  )\n",
    "                    # Draw right hand laandmarks \n",
    "                    mp_drawing.draw_landmarks(image, results.right_hand_landmarks, mp_holistic.HAND_CONNECTIONS,\n",
    "                                                  mp_drawing.DrawingSpec(color=(80,22,10), thickness=2, circle_radius=4),\n",
    "                                                  mp_drawing.DrawingSpec(color=(80,44,121), thickness=2, circle_radius=2)\n",
    "                                                  )\n",
    "                    # Draw left hand laandmarks \n",
    "                    mp_drawing.draw_landmarks(image, results.left_hand_landmarks, mp_holistic.HAND_CONNECTIONS,\n",
    "                                                  mp_drawing.DrawingSpec(color=(121,22,76), thickness=2, circle_radius=4),\n",
    "                                                  mp_drawing.DrawingSpec(color=(121,44,250), thickness=2, circle_radius=2)\n",
    "                                                  )\n",
    "                    # Draw left hand laandmarks \n",
    "                    mp_drawing.draw_landmarks(image, results.pose_landmarks, mp_holistic.POSE_CONNECTIONS,\n",
    "                                                  mp_drawing.DrawingSpec(color=(245,117,66), thickness=2, circle_radius=4),\n",
    "                                                  mp_drawing.DrawingSpec(color=(245,66,230), thickness=2, circle_radius=2)\n",
    "                                                  )\n",
    "\n",
    "                    # Export Coordinates\n",
    "                    try:\n",
    "                        # Extract pose landmarks\n",
    "                        pose = results.pose_landmarks.landmark\n",
    "                        pose_row= list(np.array([[landmark.x, landmark.y, landmark.z, landmark.visibility]for landmark in pose]).flatten())\n",
    "\n",
    "                        # Extract face landmarks\n",
    "                        face = results.face_landmarks.landmark\n",
    "                        face_row= list(np.array([[landmark.x, landmark.y, landmark.z, landmark.visibility]for landmark in face]).flatten())\n",
    "\n",
    "                        # concatenate rows\n",
    "                        row = pose_row + face_row\n",
    "\n",
    "                        # Append class name\n",
    "                        row.insert(0, label_dict[label])\n",
    "\n",
    "                        # Export to CSV\n",
    "                        with open('emotic.csv', mode='a', newline='') as coords:\n",
    "                            csv_writer = csv.writer(coords, delimiter=',', quotechar='\"', quoting=csv.QUOTE_MINIMAL)\n",
    "                            csv_writer.writerow(row)   \n",
    "\n",
    "                    except:\n",
    "                        pass\n",
    "    "
   ]
  },
  {
   "cell_type": "code",
   "execution_count": null,
   "id": "cf252db9",
   "metadata": {},
   "outputs": [],
   "source": []
  }
 ],
 "metadata": {
  "kernelspec": {
   "display_name": "Python 3 (ipykernel)",
   "language": "python",
   "name": "python3"
  },
  "language_info": {
   "codemirror_mode": {
    "name": "ipython",
    "version": 3
   },
   "file_extension": ".py",
   "mimetype": "text/x-python",
   "name": "python",
   "nbconvert_exporter": "python",
   "pygments_lexer": "ipython3",
   "version": "3.9.13"
  },
  "vscode": {
   "interpreter": {
    "hash": "01c3aaaa01c7aeaf5964a47c33903990bd10bcdaa6c4aad3522232b3edd7e39d"
   }
  }
 },
 "nbformat": 4,
 "nbformat_minor": 5
}
