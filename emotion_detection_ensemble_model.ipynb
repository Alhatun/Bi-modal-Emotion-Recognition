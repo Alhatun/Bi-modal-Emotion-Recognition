{
 "cells": [
  {
   "cell_type": "markdown",
   "id": "1f60280d",
   "metadata": {},
   "source": [
    "### Import Dependencies"
   ]
  },
  {
   "cell_type": "code",
   "execution_count": 16,
   "id": "2ffbdd0f",
   "metadata": {},
   "outputs": [],
   "source": [
    "import cv2\n",
    "import csv \n",
    "import numpy as np \n",
    "import pandas as pd\n",
    "from sklearn.model_selection import train_test_split\n",
    "from sklearn.pipeline import make_pipeline \n",
    "from sklearn.preprocessing import StandardScaler \n",
    "from sklearn.linear_model import RidgeClassifier\n",
    "from sklearn.ensemble import RandomForestClassifier\n",
    "from sklearn.naive_bayes import GaussianNB\n",
    "from sklearn import svm\n",
    "from sklearn.svm import SVC\n",
    "from sklearn.metrics import accuracy_score # Accuracy metrics \n",
    "import pickle\n",
    "from sklearn.linear_model import LogisticRegression\n",
    "from imblearn.combine import SMOTETomek\n",
    "import mediapipe"
   ]
  },
  {
   "cell_type": "markdown",
   "id": "69b530a0",
   "metadata": {},
   "source": [
    "### Loading and Balancing the Dataset"
   ]
  },
  {
   "cell_type": "code",
   "execution_count": 2,
   "id": "4e976f7f",
   "metadata": {},
   "outputs": [],
   "source": [
    "df = pd.read_csv('emotic.csv')"
   ]
  },
  {
   "cell_type": "code",
   "execution_count": 3,
   "id": "c7811e9a",
   "metadata": {},
   "outputs": [],
   "source": [
    "X = df.drop('class', axis=1)\n",
    "y = df['class'] # target value"
   ]
  },
  {
   "cell_type": "code",
   "execution_count": 5,
   "id": "772ae081",
   "metadata": {},
   "outputs": [],
   "source": [
    "smt = SMOTETomek(random_state=42)\n",
    "X, y = smt.fit_resample(X, y)"
   ]
  },
  {
   "cell_type": "markdown",
   "id": "bef317f4",
   "metadata": {},
   "source": [
    "### Training the Ensemble Model"
   ]
  },
  {
   "cell_type": "code",
   "execution_count": 6,
   "id": "d4c710f2",
   "metadata": {},
   "outputs": [],
   "source": [
    "X_train, X_test, y_train, y_test = train_test_split(\n",
    "    X, y, test_size=0.2, random_state=1234)"
   ]
  },
  {
   "cell_type": "code",
   "execution_count": 7,
   "id": "10005fc3",
   "metadata": {},
   "outputs": [],
   "source": [
    "lg_pipeline = make_pipeline(StandardScaler(), LogisticRegression())\n",
    "rf_pipeline = make_pipeline(StandardScaler(), RandomForestClassifier())\n",
    "svc_pipeline = make_pipeline(SVC(kernel='rbf', gamma=1, C=1, decision_function_shape='ovo', probability=True))"
   ]
  },
  {
   "cell_type": "code",
   "execution_count": 8,
   "id": "3b331ff7",
   "metadata": {},
   "outputs": [],
   "source": [
    "estimators = [('lg', lg_pipeline), ('randomForest', rf_pipeline), ('svc', svc_pipeline)]"
   ]
  },
  {
   "cell_type": "code",
   "execution_count": 9,
   "id": "8da9aa81",
   "metadata": {},
   "outputs": [],
   "source": [
    "from sklearn.ensemble import VotingClassifier\n",
    "ensemble = VotingClassifier(estimators=estimators, voting='soft')"
   ]
  },
  {
   "cell_type": "code",
   "execution_count": 10,
   "id": "43dcedff",
   "metadata": {},
   "outputs": [
    {
     "name": "stderr",
     "output_type": "stream",
     "text": [
      "C:\\Users\\norra\\anaconda3\\lib\\site-packages\\sklearn\\linear_model\\_logistic.py:814: ConvergenceWarning: lbfgs failed to converge (status=1):\n",
      "STOP: TOTAL NO. of ITERATIONS REACHED LIMIT.\n",
      "\n",
      "Increase the number of iterations (max_iter) or scale the data as shown in:\n",
      "    https://scikit-learn.org/stable/modules/preprocessing.html\n",
      "Please also refer to the documentation for alternative solver options:\n",
      "    https://scikit-learn.org/stable/modules/linear_model.html#logistic-regression\n",
      "  n_iter_i = _check_optimize_result(\n"
     ]
    },
    {
     "name": "stdout",
     "output_type": "stream",
     "text": [
      "Wall time: 17min 23s\n"
     ]
    },
    {
     "data": {
      "text/plain": [
       "VotingClassifier(estimators=[('lg',\n",
       "                              Pipeline(steps=[('standardscaler',\n",
       "                                               StandardScaler()),\n",
       "                                              ('logisticregression',\n",
       "                                               LogisticRegression())])),\n",
       "                             ('randomForest',\n",
       "                              Pipeline(steps=[('standardscaler',\n",
       "                                               StandardScaler()),\n",
       "                                              ('randomforestclassifier',\n",
       "                                               RandomForestClassifier())])),\n",
       "                             ('svc',\n",
       "                              Pipeline(steps=[('svc',\n",
       "                                               SVC(C=1,\n",
       "                                                   decision_function_shape='ovo',\n",
       "                                                   gamma=1,\n",
       "                                                   probability=True))]))],\n",
       "                 voting='soft')"
      ]
     },
     "execution_count": 10,
     "metadata": {},
     "output_type": "execute_result"
    }
   ],
   "source": [
    "ensemble.fit(X_train, y_train)"
   ]
  },
  {
   "cell_type": "code",
   "execution_count": 11,
   "id": "a1c9071d",
   "metadata": {},
   "outputs": [
    {
     "name": "stdout",
     "output_type": "stream",
     "text": [
      "Wall time: 32.3 s\n"
     ]
    }
   ],
   "source": [
    "y_pred = ensemble.predict(X_test)"
   ]
  },
  {
   "cell_type": "code",
   "execution_count": 12,
   "id": "d064cf8e",
   "metadata": {},
   "outputs": [
    {
     "name": "stdout",
     "output_type": "stream",
     "text": [
      "Accuracy:  0.9651287553648069\n"
     ]
    }
   ],
   "source": [
    "accuracy = accuracy_score(y_test, y_pred)\n",
    "print(\"Accuracy: \", accuracy)"
   ]
  },
  {
   "cell_type": "markdown",
   "id": "c0cd249e",
   "metadata": {},
   "source": [
    "### Model Evaluation Using Confusion Matrix"
   ]
  },
  {
   "cell_type": "code",
   "execution_count": 13,
   "id": "342027cb",
   "metadata": {},
   "outputs": [
    {
     "name": "stderr",
     "output_type": "stream",
     "text": [
      "C:\\Users\\norra\\anaconda3\\lib\\site-packages\\sklearn\\base.py:450: UserWarning: X does not have valid feature names, but StandardScaler was fitted with feature names\n",
      "  warnings.warn(\n",
      "C:\\Users\\norra\\anaconda3\\lib\\site-packages\\sklearn\\base.py:450: UserWarning: X does not have valid feature names, but StandardScaler was fitted with feature names\n",
      "  warnings.warn(\n",
      "C:\\Users\\norra\\anaconda3\\lib\\site-packages\\sklearn\\base.py:450: UserWarning: X does not have valid feature names, but SVC was fitted with feature names\n",
      "  warnings.warn(\n"
     ]
    },
    {
     "name": "stdout",
     "output_type": "stream",
     "text": [
      "               precision    recall  f1-score   support\n",
      "\n",
      "    Annoyance       0.98      0.99      0.99       309\n",
      "     Aversion       0.99      1.00      1.00       306\n",
      "Disconnection       0.96      0.98      0.97       284\n",
      "   Engagement       0.96      0.85      0.90       330\n",
      "   Excitement       0.94      0.97      0.96       316\n",
      "     Pleasure       0.95      1.00      0.98       319\n",
      "\n",
      "     accuracy                           0.97      1864\n",
      "    macro avg       0.97      0.97      0.97      1864\n",
      " weighted avg       0.97      0.97      0.96      1864\n",
      "\n"
     ]
    },
    {
     "data": {
      "image/png": "[encoded data removed]",
      "text/plain": [
       "<Figure size 640x480 with 2 Axes>"
      ]
     },
     "metadata": {},
     "output_type": "display_data"
    },
    {
     "name": "stdout",
     "output_type": "stream",
     "text": [
      "Wall time: 35.7 s\n"
     ]
    }
   ],
   "source": [
    "import seaborn as sns\n",
    "import matplotlib.pyplot as plt\n",
    "from sklearn.metrics import confusion_matrix, classification_report\n",
    "from sklearn.utils.multiclass import unique_labels\n",
    "y_true = y_test\n",
    "\n",
    "y_pred = ensemble.predict(X_test.values)\n",
    "\n",
    "confusion_matrix = confusion_matrix(y_true, y_pred)\n",
    "\n",
    "sns.heatmap(confusion_matrix, annot=True, fmt='d',\n",
    "            xticklabels=unique_labels(y_test), yticklabels=unique_labels(y_test), cmap='OrRd')\n",
    "\n",
    "plt.xlabel('Predicted Class')\n",
    "plt.ylabel('True Class')\n",
    "\n",
    "print(classification_report(y_true, y_pred,\n",
    "      target_names=unique_labels(y_test)))\n",
    "\n",
    "plt.show()\n"
   ]
  },
  {
   "cell_type": "markdown",
   "id": "5f64360d",
   "metadata": {},
   "source": [
    " ### Predicting Emotion Class using the Ensemble Model on the Captured Videos from the Case Study"
   ]
  },
  {
   "cell_type": "code",
   "execution_count": 14,
   "id": "739a941f",
   "metadata": {},
   "outputs": [],
   "source": [
    "# creating csv file to store the case study results\n",
    "row_em = ['index', 'person', 'class']\n",
    "with open('case_study_ER_results_ensemble_model.csv', mode='w', newline='') as coords:\n",
    "    csv_writer = csv.writer(coords, delimiter=',', quotechar='\"', quoting=csv.QUOTE_MINIMAL)\n",
    "    csv_writer.writerow(row_em)"
   ]
  },
  {
   "cell_type": "code",
   "execution_count": null,
   "id": "cfe67eef",
   "metadata": {
    "scrolled": true
   },
   "outputs": [],
   "source": [
    "# Initializing the landmarks drawing utilities\n",
    "mp_drawing = mp.solutions.drawing_utils\n",
    "# Mediapipe landmark detection models\n",
    "mp_holistic = mp.solutions.holistic\n",
    "# path to the case study videos \n",
    "path = 'C:/Users/norra/Graduation project/case study/all'\n",
    "emotion_counts = {'Aversion': 0, 'Annoyance': 0, 'Engagement': 0, 'Disconnection': 0, 'Excitement': 0, 'Pleasure': 0}\n",
    "emotion_classes = []\n",
    "i =0\n",
    "with mp_holistic.Holistic(min_detection_confidence=0.5, min_tracking_confidence=0.5) as holistic:\n",
    "    for filename in os.listdir(path):\n",
    "        if filename.endswith(\".mov\"):\n",
    "            video = cv2.VideoCapture(os.path.join(path, filename))\n",
    "            print(filename)\n",
    "            person_number = filename[:9]\n",
    "            emotion_counts = {'Aversion': 0, 'Annoyance': 0, 'Engagement': 0, 'Disconnection': 0, 'Excitement': 0, 'Pleasure': 0}\n",
    "            # Looping through each frame received from the webcam\n",
    "            while (video.isOpened()):\n",
    "                ret, frame = video.read()\n",
    "                if not ret:\n",
    "                    print(\"Can't receive frame (stream end?). Exiting ...\")\n",
    "                    break\n",
    "                # Convert image color format from BGR to RGB\n",
    "                image = cv2.cvtColor(frame, cv2.COLOR_BGR2RGB)\n",
    "                image.flags.writeable = False\n",
    "                # Pass the image to mediapipe for detection\n",
    "                results = holistic.process(image)\n",
    "\n",
    "                # Convert the image color format back to BGR for rendering\n",
    "                image.flags.writeable = True\n",
    "                image = cv2.cvtColor(image, cv2.COLOR_RGB2BGR)\n",
    "\n",
    "                # Draw face laandmarks \n",
    "                mp_drawing.draw_landmarks(image, results.face_landmarks, mp_holistic.FACEMESH_TESSELATION,\n",
    "                                          mp_drawing.DrawingSpec(color=(80,110,10), thickness=1, circle_radius=1),\n",
    "                                          mp_drawing.DrawingSpec(color=(80,256,121), thickness=1, circle_radius=1)\n",
    "                                          )\n",
    "                # Draw right hand laandmarks \n",
    "                mp_drawing.draw_landmarks(image, results.right_hand_landmarks, mp_holistic.HAND_CONNECTIONS,\n",
    "                                          mp_drawing.DrawingSpec(color=(80,22,10), thickness=2, circle_radius=4),\n",
    "                                          mp_drawing.DrawingSpec(color=(80,44,121), thickness=2, circle_radius=2)\n",
    "                                          )\n",
    "                # Draw left hand laandmarks \n",
    "                mp_drawing.draw_landmarks(image, results.left_hand_landmarks, mp_holistic.HAND_CONNECTIONS,\n",
    "                                          mp_drawing.DrawingSpec(color=(121,22,76), thickness=2, circle_radius=4),\n",
    "                                          mp_drawing.DrawingSpec(color=(121,44,250), thickness=2, circle_radius=2)\n",
    "                                          )\n",
    "                # Draw pose laandmarks \n",
    "                mp_drawing.draw_landmarks(image, results.pose_landmarks, mp_holistic.POSE_CONNECTIONS,\n",
    "                                          mp_drawing.DrawingSpec(color=(245,117,66), thickness=2, circle_radius=4),\n",
    "                                          mp_drawing.DrawingSpec(color=(245,66,230), thickness=2, circle_radius=2)\n",
    "                                          )\n",
    "\n",
    "                # Export Coordinates\n",
    "                try:\n",
    "                    # Extract pose landmarks\n",
    "                    pose = results.pose_landmarks.landmark\n",
    "                    pose_row= list(np.array([[landmark.x, landmark.y, landmark.z, landmark.visibility]for landmark in pose]).flatten())\n",
    "\n",
    "                    # Extract face landmarks\n",
    "                    face = results.face_landmarks.landmark\n",
    "                    face_row= list(np.array([[landmark.x, landmark.y, landmark.z, landmark.visibility]for landmark in face]).flatten())\n",
    "\n",
    "                    # Concate rows\n",
    "                    row = pose_row + face_row\n",
    "\n",
    "\n",
    "                    X = pd.DataFrame([row])\n",
    "                    emotion_class = ensemble.predict(X.values)[0]\n",
    "                    emotion_counts[emotion_class] += 1\n",
    "\n",
    "                    # Calculate the majority vote after processing the entire video\n",
    "                    majority_emotion = max(emotion_counts, key=emotion_counts.get)\n",
    "                    file = [str(i), person_number, majority_emotion]\n",
    "                    if [person_number, majority_emotion] not in [file[1:] for file in emotion_classes]:\n",
    "                        emotion_classes.append(file)\n",
    "                        i+=1\n",
    "                    # Grab ear coords\n",
    "                    coords = tuple(np.multiply(\n",
    "                                    np.array(\n",
    "                                        (results.pose_landmarks.landmark[mp_holistic.PoseLandmark.LEFT_EAR].x, \n",
    "                                        results.pose_landmarks.landmark[mp_holistic.PoseLandmark.LEFT_EAR].y)\n",
    "                                    ), [640,480]).astype(int))\n",
    "\n",
    "                except:\n",
    "                    pass\n",
    "                \n",
    "\n",
    "\n",
    "        cv2.imshow('Raw webcam Feed', image)\n",
    "\n",
    "        if cv2.waitKey(10) & 0xFF == ord('q'):\n",
    "            break\n",
    "\n",
    "video.release()\n",
    "cv2.destroyAllWindows()\n",
    "\n",
    "# Export to CSV\n",
    "with open('case_study_ER_results_ensemble_model.csv', mode='a', newline='') as coords:\n",
    "    csv_writer = csv.writer(coords, delimiter=',', quotechar='\"', quoting=csv.QUOTE_MINIMAL)\n",
    "    for row in emotion_classes:\n",
    "        csv_writer.writerow(row)"
   ]
  },
  {
   "cell_type": "code",
   "execution_count": null,
   "id": "71768d37",
   "metadata": {},
   "outputs": [],
   "source": []
  }
 ],
 "metadata": {
  "kernelspec": {
   "display_name": "Python 3 (ipykernel)",
   "language": "python",
   "name": "python3"
  },
  "language_info": {
   "codemirror_mode": {
    "name": "ipython",
    "version": 3
   },
   "file_extension": ".py",
   "mimetype": "text/x-python",
   "name": "python",
   "nbconvert_exporter": "python",
   "pygments_lexer": "ipython3",
   "version": "3.9.13"
  }
 },
 "nbformat": 4,
 "nbformat_minor": 5
}
